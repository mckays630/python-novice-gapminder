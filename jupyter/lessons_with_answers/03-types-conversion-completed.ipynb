{
 "cells": [
  {
   "cell_type": "markdown",
   "metadata": {},
   "source": [
    "# Data Types and Type Conversion\n",
    "## Key Points\n",
    "- \"Every value has a type.\"\n",
    "- \"Use the built-in function `type` to find the type of a value.\"\n",
    "- \"Types control what operations can be done on values.\"\n",
    "- \"Strings can be added and multiplied.\"\n",
    "- \"Strings have a length (but numbers don't).\"\n",
    "- \"Must convert numbers to strings or vice versa when operating on them.\"\n",
    "- \"Can mix integers and floats freely in operations.\"\n",
    "- \"Variables only change value when something is assigned to them.\""
   ]
  },
  {
   "cell_type": "markdown",
   "metadata": {},
   "source": [
    "## Every value has a type.\n",
    "\n",
    "*   Every value in a program has a specific type.\n",
    "*   Integer (`int`): represents positive or negative whole numbers like 3 or -512.\n",
    "*   Floating point number (`float`): represents real numbers like 3.14159 or -2.5.\n",
    "*   Character string (usually called \"string\", `str`): text.\n",
    "*   Written in either single quotes or double quotes (as long as they match).\n",
    "*   The quote marks aren't printed when the string is displayed.\n",
    "\n",
    "## Use the built-in function `type` to find the type of a value.\n",
    "\n",
    "*   Use the built-in function `type` to find out what type a value has.\n",
    "*   Works on variables as well.\n",
    "*   But remember: the *value* has the type --- the *variable* is just a label."
   ]
  },
  {
   "cell_type": "code",
   "execution_count": 29,
   "metadata": {},
   "outputs": [
    {
     "name": "stdout",
     "output_type": "stream",
     "text": [
      "<class 'int'>\n"
     ]
    }
   ],
   "source": [
    "print(type(52))"
   ]
  },
  {
   "cell_type": "code",
   "execution_count": 30,
   "metadata": {},
   "outputs": [
    {
     "name": "stdout",
     "output_type": "stream",
     "text": [
      "<class 'str'>\n"
     ]
    }
   ],
   "source": [
    "fitness = 'average'\n",
    "print(type(fitness))"
   ]
  },
  {
   "cell_type": "code",
   "execution_count": null,
   "metadata": {},
   "outputs": [],
   "source": []
  },
  {
   "cell_type": "markdown",
   "metadata": {},
   "source": [
    "## Types control what operations (or methods) can be performed on a given value.\n",
    "\n",
    "*   A value's type determines what the program can do to it."
   ]
  },
  {
   "cell_type": "code",
   "execution_count": 31,
   "metadata": {},
   "outputs": [
    {
     "name": "stdout",
     "output_type": "stream",
     "text": [
      "2\n"
     ]
    }
   ],
   "source": [
    "print(5-3)"
   ]
  },
  {
   "cell_type": "code",
   "execution_count": 32,
   "metadata": {},
   "outputs": [
    {
     "data": {
      "text/plain": [
       "2"
      ]
     },
     "execution_count": 32,
     "metadata": {},
     "output_type": "execute_result"
    }
   ],
   "source": [
    "2"
   ]
  },
  {
   "cell_type": "code",
   "execution_count": 33,
   "metadata": {},
   "outputs": [
    {
     "ename": "TypeError",
     "evalue": "unsupported operand type(s) for -: 'str' and 'str'",
     "output_type": "error",
     "traceback": [
      "\u001b[0;31m---------------------------------------------------------------------------\u001b[0m",
      "\u001b[0;31mTypeError\u001b[0m                                 Traceback (most recent call last)",
      "\u001b[0;32m<ipython-input-33-35e8597b28d6>\u001b[0m in \u001b[0;36m<module>\u001b[0;34m()\u001b[0m\n\u001b[0;32m----> 1\u001b[0;31m \u001b[0mprint\u001b[0m\u001b[0;34m(\u001b[0m\u001b[0;34m'hello'\u001b[0m \u001b[0;34m-\u001b[0m \u001b[0;34m'h'\u001b[0m\u001b[0;34m)\u001b[0m\u001b[0;34m\u001b[0m\u001b[0m\n\u001b[0m",
      "\u001b[0;31mTypeError\u001b[0m: unsupported operand type(s) for -: 'str' and 'str'"
     ]
    }
   ],
   "source": [
    "print('hello' - 'h')"
   ]
  },
  {
   "cell_type": "markdown",
   "metadata": {},
   "source": [
    "\n",
    "## You can use the \"+\" and \"*\" operators on strings.\n",
    "\n",
    "*   \"Adding\" character strings concatenates them."
   ]
  },
  {
   "cell_type": "code",
   "execution_count": null,
   "metadata": {},
   "outputs": [],
   "source": [
    "full_name = 'Sheldon' + ' ' + 'McKay'\n",
    "print(full_name)"
   ]
  },
  {
   "cell_type": "code",
   "execution_count": null,
   "metadata": {},
   "outputs": [],
   "source": []
  },
  {
   "cell_type": "markdown",
   "metadata": {},
   "source": [
    "*   Multiplying a character string by an integer _N_ creates a new string that consists of that character string repeated  _N_ times.\n",
    "*   Since multiplication is repeated addition."
   ]
  },
  {
   "cell_type": "code",
   "execution_count": null,
   "metadata": {},
   "outputs": [],
   "source": [
    "separator = '=' * 10\n",
    "print(separator)"
   ]
  },
  {
   "cell_type": "markdown",
   "metadata": {},
   "source": [
    "## Strings have a length (but numbers don't).\n",
    "\n",
    "*   The built-in function `len` counts the number of characters in a string."
   ]
  },
  {
   "cell_type": "code",
   "execution_count": null,
   "metadata": {},
   "outputs": [],
   "source": [
    "print(len(full_name))"
   ]
  },
  {
   "cell_type": "code",
   "execution_count": null,
   "metadata": {},
   "outputs": [],
   "source": []
  },
  {
   "cell_type": "markdown",
   "metadata": {},
   "source": [
    "*   But numbers don't have a length (not even zero)."
   ]
  },
  {
   "cell_type": "code",
   "execution_count": null,
   "metadata": {},
   "outputs": [],
   "source": [
    "print(len(52))"
   ]
  },
  {
   "cell_type": "markdown",
   "metadata": {},
   "source": [
    "## Must convert numbers to strings or vice versa when operating on them.\n",
    "\n",
    "*   Cannot add numbers and strings."
   ]
  },
  {
   "cell_type": "code",
   "execution_count": null,
   "metadata": {},
   "outputs": [],
   "source": [
    "print(1 + '2')"
   ]
  },
  {
   "cell_type": "markdown",
   "metadata": {},
   "source": [
    "*   Not allowed because it's ambiguous: should `1 + '2'` be `3` or `'12'`?\n",
    "*   Some types can be converted to other types by using the type name as a function."
   ]
  },
  {
   "cell_type": "code",
   "execution_count": null,
   "metadata": {},
   "outputs": [],
   "source": [
    "print(1 + int('2'))\n",
    "print(str(1) + '2')"
   ]
  },
  {
   "cell_type": "markdown",
   "metadata": {},
   "source": [
    "## Can mix integers and floats freely in operations.\n",
    "\n",
    "*   Integers and floating-point numbers can be mixed in arithmetic.\n",
    "*   Python 3 automatically converts integers to floats as needed. (Integer division in Python 2 will return an integer, the *floor* of the division.)"
   ]
  },
  {
   "cell_type": "code",
   "execution_count": null,
   "metadata": {},
   "outputs": [],
   "source": [
    "print('half is',1/2.0)\n",
    "print('three squared is',3.0 ** 2)"
   ]
  },
  {
   "cell_type": "markdown",
   "metadata": {},
   "source": [
    "## Variables only change value when something is assigned to them.\n",
    "\n",
    "*   If we make one cell in a spreadsheet depend on another,\n",
    "and update the latter,\n",
    "the former updates automatically.\n",
    "*   This does **not** happen in programming languages."
   ]
  },
  {
   "cell_type": "code",
   "execution_count": null,
   "metadata": {},
   "outputs": [],
   "source": [
    "first = 1\n",
    "second = 5 * first\n",
    "first = 2\n",
    "print('first is',first,'and second is',second)"
   ]
  },
  {
   "cell_type": "markdown",
   "metadata": {},
   "source": [
    "*   The computer reads the value of `first` when doing the multiplication,\n",
    "creates a new value, and assigns it to `second`.\n",
    "*   After that, `second` does not remember where it came from."
   ]
  },
  {
   "cell_type": "markdown",
   "metadata": {},
   "source": [
    "# Challenges"
   ]
  },
  {
   "cell_type": "markdown",
   "metadata": {},
   "source": [
    "## Fractions\n",
    "\n",
    "What type of value is 3.4?\n",
    "How can you find out?"
   ]
  },
  {
   "cell_type": "code",
   "execution_count": null,
   "metadata": {},
   "outputs": [],
   "source": [
    "print(type(3.4))"
   ]
  },
  {
   "cell_type": "markdown",
   "metadata": {},
   "source": [
    "## Automatic Type Conversion\n",
    "\n",
    "What type of value is 3.25 + 4?"
   ]
  },
  {
   "cell_type": "code",
   "execution_count": null,
   "metadata": {},
   "outputs": [],
   "source": [
    "result = 3.25 + 4\n",
    "print(result,'is a',type(result))"
   ]
  },
  {
   "cell_type": "markdown",
   "metadata": {},
   "source": [
    "## Choose a Type\n",
    "\n",
    "What type of value (integer, floating point number, or character string)\n",
    "would you use to represent each of the following?  Try to come up with more than one good answer for each problem.  For example, in  # 1, when would counting days with a floating point variable make more sense than using an integer?  \n",
    "\n",
    "1. Number of days since the start of the year.\n",
    "2. Time elapsed from the start of the year until now in days.\n",
    "3. Serial number of a piece of lab equipment.\n",
    "4. A lab specimen's age\n",
    "5. Current population of a city.\n",
    "6. Average population of a city over time."
   ]
  },
  {
   "cell_type": "markdown",
   "metadata": {},
   "source": [
    "1. Integer, since the number of days would lie between 1 and 365.\n",
    "1. Floating point, since fractional days are required\n",
    "1. Character string if serial number contains letters and numbers, otherwise integer if the serial number consists only of numerals\n",
    "1. This will vary! How do you define a specimen’s age? whole days since collection (integer)? date and time (string)?\n",
    "1. Choose floating point to represent population as large aggreates (eg millions), or integer to represent population in units of individuals.\n",
    "1. Floating point number, since an average is likely to have a fractional part."
   ]
  },
  {
   "cell_type": "markdown",
   "metadata": {},
   "source": [
    "## Division Types\n",
    "\n",
    "In Python 3, the `//` operator performs integer (whole-number) floor division, the `/` operator performs floating-point\n",
    "division, and the '%' (or *modulo*) operator calculates and returns the remainder from integer division:"
   ]
  },
  {
   "cell_type": "code",
   "execution_count": null,
   "metadata": {},
   "outputs": [],
   "source": [
    "print('5 // 3:', 5//3)\n",
    "print('5 / 3:', 5/3)\n",
    "print('5 % 3:', 5%3)"
   ]
  },
  {
   "cell_type": "markdown",
   "metadata": {},
   "source": [
    "~~~\n",
    "\n",
    "However in Python2 (and other languages), the `/` operator between two integer types perform a floor (`//`) division. To perform a float division, we have to convert one of the integers to float."
   ]
  },
  {
   "cell_type": "code",
   "execution_count": null,
   "metadata": {},
   "outputs": [],
   "source": [
    "print('5 // 3:', 1)\n",
    "print('5 / 3:', 1 )\n",
    "print('5 / float(3):', 1.6666667 )\n",
    "print('float(5) / 3:', 1.6666667 )\n",
    "print('float(5 / 3):', 1.0 )\n",
    "print('5 % 3:', 2)"
   ]
  },
  {
   "cell_type": "markdown",
   "metadata": {},
   "source": [
    "If `num_subjects` is the number of subjects taking part in a study,\n",
    "and `num_per_survey` is the number that can take part in a single survey,\n",
    "write an expression that calculates the number of surveys needed\n",
    "to reach everyone once."
   ]
  },
  {
   "cell_type": "code",
   "execution_count": null,
   "metadata": {},
   "outputs": [],
   "source": [
    "num_subjects = 600\n",
    "num_per_survey = 42\n",
    "num_surveys = num_subjects // num_per_survey + 1\n",
    "print(num_subjects,'subjects,',num_per_survey,'per survey:',num_surveys)"
   ]
  },
  {
   "cell_type": "markdown",
   "metadata": {},
   "source": [
    "## Strings to Numbers\n",
    "\n",
    "Where reasonable, `float()` will convert a string to a floating point number,\n",
    "and `int()` will convert a floating point number to an integer:"
   ]
  },
  {
   "cell_type": "code",
   "execution_count": null,
   "metadata": {},
   "outputs": [],
   "source": [
    "print(\"string to float:\", float(\"3.4\"))\n",
    "print(\"float to int:\", int(3.4))"
   ]
  },
  {
   "cell_type": "markdown",
   "metadata": {},
   "source": [
    "If the conversion doesn't make sense, however, an error message will occur"
   ]
  },
  {
   "cell_type": "code",
   "execution_count": null,
   "metadata": {},
   "outputs": [],
   "source": [
    "print(\"string to float:\", float(\"Hello world!\"))"
   ]
  },
  {
   "cell_type": "markdown",
   "metadata": {},
   "source": [
    "Given this information, what do you expect the following program to do?\n",
    "\n",
    "What does it actually do?\n",
    "\n",
    "Why do you think it does that?"
   ]
  },
  {
   "cell_type": "code",
   "execution_count": null,
   "metadata": {},
   "outputs": [],
   "source": [
    "print(\"fractional string to int:\", int(float(\"3.4\")))"
   ]
  },
  {
   "cell_type": "markdown",
   "metadata": {},
   "source": [
    "## Arithmetic with Different Types\n",
    "\n",
    "Which of the following will print 2.0?\n",
    "Note: there may be more than one right answer.\n",
    "\n",
    "~~~\n",
    "first = 1.0\n",
    "second = \"1\"\n",
    "third = \"1.1\"\n",
    "~~~\n",
    "\n",
    "\n",
    "1. `first + float(second)`\n",
    "2. `float(second) + float(third)`\n",
    "3. `first + int(third)`\n",
    "4. `first + int(float(third))`\n",
    "5. `int(first) + int(float(third))`\n",
    "6. `2.0 * second`\n"
   ]
  },
  {
   "cell_type": "code",
   "execution_count": null,
   "metadata": {},
   "outputs": [],
   "source": [
    "1, 4"
   ]
  },
  {
   "cell_type": "markdown",
   "metadata": {},
   "source": [
    "## Complex Numbers\n",
    "\n",
    "Python provides complex numbers,\n",
    "which are written as `1.0+2.0j`.\n",
    "If `val` is an imaginary number,\n",
    "its real and imaginary parts can be accessed using *dot notation*\n",
    "as `val.real` and `val.imag`.\n",
    "\n",
    "1.  Why do you think Python uses `j` instead of `i` for the imaginary part?\n",
    "2.  What do you expect `1+2j + 3` to produce?\n",
    "3.  What do you expect '4j' to be?  What about `4 j` or `4 + j'? > "
   ]
  },
  {
   "cell_type": "code",
   "execution_count": null,
   "metadata": {},
   "outputs": [],
   "source": [
    "What do you expect '4j' to be? What about 4 j or `4 + j'? >"
   ]
  },
  {
   "cell_type": "markdown",
   "metadata": {},
   "source": [
    "1. Because I said so\n",
    "1. 4 + 2j\n",
    "1. "
   ]
  }
 ],
 "metadata": {
  "kernelspec": {
   "display_name": "Python 3",
   "language": "python",
   "name": "python3"
  },
  "language_info": {
   "codemirror_mode": {
    "name": "ipython",
    "version": 3
   },
   "file_extension": ".py",
   "mimetype": "text/x-python",
   "name": "python",
   "nbconvert_exporter": "python",
   "pygments_lexer": "ipython3",
   "version": "3.6.3"
  }
 },
 "nbformat": 4,
 "nbformat_minor": 2
}
