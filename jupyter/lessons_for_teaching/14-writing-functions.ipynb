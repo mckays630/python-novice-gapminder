{
 "cells": [
  {
   "cell_type": "markdown",
   "metadata": {},
   "source": [
    "# Writing Functions"
   ]
  },
  {
   "cell_type": "markdown",
   "metadata": {},
   "source": [
    "## Break programs down into functions to make them easier to understand.\n",
    "\n",
    "*   Human beings can only keep a few items in working memory at a time.\n",
    "*   Understand larger/more complicated ideas by understanding and combining pieces.\n",
    "*   Components in a machine.\n",
    "*   Lemmas when proving theorems.\n",
    "*   Functions serve the same purpose in programs.\n",
    "*   *Encapsulate* complexity so that we can treat it as a single \"thing\".\n",
    "*   Also enables *re-use*.\n",
    "*   Write one time, use many times.\n",
    "\n",
    "## Define a function using `def` with a name, parameters, and a block of code.\n",
    "\n",
    "*   Begin the definition of a new function with `def`.\n",
    "*   Followed by the name of the function.\n",
    "*   Must obey the same rules as variable names.\n",
    "*   Then *parameters* in parentheses.\n",
    "*   Empty parentheses if the function doesn't take any inputs.\n",
    "*   We will discuss this in detail in a moment.\n",
    "*   Then a colon.\n",
    "*   Then an indented block of code."
   ]
  },
  {
   "cell_type": "code",
   "execution_count": null,
   "metadata": {},
   "outputs": [],
   "source": []
  },
  {
   "cell_type": "markdown",
   "metadata": {},
   "source": [
    "\n",
    "\n",
    "## Defining a function does not run it.\n",
    "\n",
    "*   Defining a function does not run it.\n",
    "*   Like assigning a value to a variable.\n",
    "*   Must call the function to execute the code it contains."
   ]
  },
  {
   "cell_type": "code",
   "execution_count": null,
   "metadata": {},
   "outputs": [],
   "source": []
  },
  {
   "cell_type": "markdown",
   "metadata": {},
   "source": [
    "\n",
    "\n",
    "## Arguments in call are matched to parameters in definition.\n",
    "\n",
    "*   Functions are most useful when they can operate on different data.\n",
    "*   Specify *parameters* when defining a function.\n",
    "*   These become variables when the function is executed.\n",
    "*   Are assigned the arguments in the call (i.e., the values passed to the function).\n",
    "*   If you don't name the arguments when using them in the call, the arguments will be matched to\n",
    "parameters in the order the parameters are defined in the function."
   ]
  },
  {
   "cell_type": "code",
   "execution_count": null,
   "metadata": {},
   "outputs": [],
   "source": [
    "\n"
   ]
  },
  {
   "cell_type": "markdown",
   "metadata": {},
   "source": [
    "\n",
    "\n",
    "Or, we can name the arguments when we call the function, which allows us to\n",
    "specify them in any order:"
   ]
  },
  {
   "cell_type": "code",
   "execution_count": null,
   "metadata": {},
   "outputs": [],
   "source": []
  },
  {
   "cell_type": "markdown",
   "metadata": {},
   "source": [
    "## Functions may return a result to their caller using `return`.\n",
    "\n",
    "*   Use `return ...` to give a value back to the caller.\n",
    "*   May occur anywhere in the function.\n",
    "*   But functions are easier to understand if `return` occurs:\n",
    "*   At the start to handle special cases.\n",
    "*   At the very end, with a final result."
   ]
  },
  {
   "cell_type": "code",
   "execution_count": null,
   "metadata": {},
   "outputs": [],
   "source": [
    "\n"
   ]
  },
  {
   "cell_type": "markdown",
   "metadata": {},
   "source": [
    "\n",
    "*   Remember: Every function returns something\n",
    "*   A function that doesn't explicitly `return` a value automatically returns `None`."
   ]
  },
  {
   "cell_type": "code",
   "execution_count": null,
   "metadata": {},
   "outputs": [],
   "source": []
  },
  {
   "cell_type": "markdown",
   "metadata": {},
   "source": [
    "# Challenges"
   ]
  },
  {
   "cell_type": "markdown",
   "metadata": {},
   "source": [
    "## Identifying Syntax Errors\n",
    "\n",
    "1. Read the code below and try to identify what the errors are\n",
    "*without* running it.\n",
    "2. Run the code and read the error message.\n",
    "Is it a `SyntaxError` or an `IndentationError`?\n",
    "3. Fix the error.\n",
    "4. Repeat steps 2 and 3 until you have fixed all the errors.\n",
    "\n",
    "~~~python\n",
    "def another_function\n",
    "    print(\"Syntax errors are annoying.\")\n",
    "     print(\"But at least python tells us about them!\")\n",
    "    print(\"So they are usually not too hard to fix.\")\n",
    "~~~"
   ]
  },
  {
   "cell_type": "code",
   "execution_count": null,
   "metadata": {},
   "outputs": [],
   "source": []
  },
  {
   "cell_type": "markdown",
   "metadata": {},
   "source": [
    "## Definition and Use\n",
    "\n",
    "What does the following program print?\n",
    "\n",
    "~~~python\n",
    "def report(pressure):\n",
    "    print('pressure is', pressure)\n",
    "print('calling', report, 22.5)\n",
    "~~~"
   ]
  },
  {
   "cell_type": "code",
   "execution_count": null,
   "metadata": {},
   "outputs": [],
   "source": []
  },
  {
   "cell_type": "markdown",
   "metadata": {},
   "source": [
    "## Order of Operations\n",
    "\n",
    "The example above:\n",
    "\n",
    "~~~\n",
    "result = print_date(1871, 3, 19)\n",
    "print('result of call is:', result)\n",
    "~~~\n",
    "\n",
    "\n",
    "printed:\n",
    "~~~\n",
    "1871/3/19\n",
    "result of call is: None\n",
    "~~~\n",
    "\n",
    "\n",
    "Explain why the two lines of output appeared in the order they did."
   ]
  },
  {
   "cell_type": "code",
   "execution_count": null,
   "metadata": {},
   "outputs": [],
   "source": []
  },
  {
   "cell_type": "markdown",
   "metadata": {},
   "source": [
    "What's wrong in this example?\n",
    "~~~python\n",
    "result = print_date(1871,3,19)\n",
    "\n",
    "def print_date(year, month, day):\n",
    "    joined = str(year) + '/' + str(month) + '/' + str(day)\n",
    "    print(joined)\n",
    "~~~"
   ]
  },
  {
   "cell_type": "code",
   "execution_count": null,
   "metadata": {},
   "outputs": [],
   "source": []
  },
  {
   "cell_type": "markdown",
   "metadata": {},
   "source": [
    "## Encapsulation\n",
    "\n",
    "Fill in the blanks to create a function that takes a single filename as an argument,\n",
    "loads the data in the file named by the argument,\n",
    "and returns the minimum value in that data.\n",
    "\n",
    "~~~python\n",
    "import pandas\n",
    "\n",
    "def min_in_data(____):\n",
    "    data = ____\n",
    "    return ____\n",
    "~~~"
   ]
  },
  {
   "cell_type": "code",
   "execution_count": null,
   "metadata": {},
   "outputs": [],
   "source": []
  },
  {
   "cell_type": "markdown",
   "metadata": {},
   "source": [
    "## Find the First\n",
    "\n",
    "Fill in the blanks to create a function that takes a list of numbers as an argument\n",
    "and returns the first negative value in the list.\n",
    "What does your function do if the list is empty?\n",
    "\n",
    "~~~python\n",
    "def first_negative(values):\n",
    "    for v in ____:\n",
    "    if ____:\n",
    "        return ____\n",
    "~~~"
   ]
  },
  {
   "cell_type": "code",
   "execution_count": null,
   "metadata": {},
   "outputs": [],
   "source": []
  },
  {
   "cell_type": "markdown",
   "metadata": {},
   "source": [
    "## Calling by Name\n",
    "\n",
    "Earlier we saw this function:\n",
    "\n",
    "~~~python\n",
    "def print_date(year, month, day):\n",
    "    joined = str(year) + '/' + str(month) + '/' + str(day)\n",
    "    print(joined)\n",
    "~~~\n",
    "We saw that we can call the function using *named arguments*, like this:\n",
    "~~~python\n",
    "print_date(day=1, month=2, year=2003)\n",
    "~~~\n",
    "\n",
    "1.  What does `print_date(day=1, month=2, year=2003)` print?\n",
    "2.  When have you seen a function call like this before?\n",
    "3.  When and why is it useful to call functions this way?"
   ]
  },
  {
   "cell_type": "code",
   "execution_count": null,
   "metadata": {},
   "outputs": [],
   "source": []
  },
  {
   "cell_type": "markdown",
   "metadata": {},
   "source": [
    "## Key Points\n",
    "- Break programs down into functions to make them easier to understand.\"\n",
    "- Define a function using `def` with a name, parameters, and a block of code.\"\n",
    "- Defining a function does not run it.\"\n",
    "- Arguments in call are matched to parameters in definition.\"\n",
    "- Functions may return a result to their caller using `return`.\""
   ]
  }
 ],
 "metadata": {
  "kernelspec": {
   "display_name": "Python 3.7.3",
   "language": "python",
   "name": "python3"
  },
  "language_info": {
   "codemirror_mode": {
    "name": "ipython",
    "version": 3
   },
   "file_extension": ".py",
   "mimetype": "text/x-python",
   "name": "python",
   "nbconvert_exporter": "python",
   "pygments_lexer": "ipython3",
   "version": "3.7.3"
  }
 },
 "nbformat": 4,
 "nbformat_minor": 2
}
